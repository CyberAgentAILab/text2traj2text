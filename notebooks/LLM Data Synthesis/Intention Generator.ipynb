{
 "cells": [
  {
   "cell_type": "code",
   "execution_count": 1,
   "metadata": {},
   "outputs": [],
   "source": [
    "from text2traj2text.text2traj.chain_builder import build_user_intention_chain"
   ]
  },
  {
   "cell_type": "code",
   "execution_count": 3,
   "metadata": {},
   "outputs": [
    {
     "name": "stderr",
     "output_type": "stream",
     "text": [
      "/Users/s24646/research/traj2text/src/text2traj2text/text2traj/chain_builder/user_intention_chain_builder.py:31: LangChainDeprecationWarning: The class `AzureChatOpenAI` was deprecated in LangChain 0.0.10 and will be removed in 1.0. An updated version of the class exists in the langchain-openai package and should be used instead. To use it run `pip install -U langchain-openai` and import as `from langchain_openai import AzureChatOpenAI`.\n",
      "  model = AzureChatOpenAI(\n"
     ]
    }
   ],
   "source": [
    "chain = build_user_intention_chain(\"gpt-35-turbo\", 0.7)"
   ]
  },
  {
   "cell_type": "code",
   "execution_count": 9,
   "metadata": {},
   "outputs": [],
   "source": [
    "output = chain.run({\"samples\": 5})"
   ]
  },
  {
   "cell_type": "code",
   "execution_count": 15,
   "metadata": {},
   "outputs": [
    {
     "name": "stdout",
     "output_type": "stream",
     "text": [
      "Intention: A health-conscious customer with a preference for organic and natural products, focusing on fresh produce, whole grains, and lean proteins. This customer arrives with a predetermined list of purchases, carefully planning their meals in advance. They prioritize quality over price and are willing to pay more for premium products. The customer prefers products in their natural state, avoiding processed or pre-packaged items. They aim to buy around 15 items during this shopping trip.\n",
      "Number of items to buy: 15\n",
      "Purchase consideration: 4\n",
      "\n",
      "Intention: A budget-conscious customer who prioritizes affordability and seeks discounted products. They tend to buy staple items such as rice, pasta, canned goods, and frozen vegetables. This customer tends to explore options while shopping, looking for the best deals and comparing prices. They are less concerned about quality and more focused on getting the most value for their money. The customer prefers larger quantities and may buy around 25 items on this trip.\n",
      "Number of items to buy: 25\n",
      "Purchase consideration: 3\n",
      "\n",
      "Intention: A customer with specific dietary restrictions, such as gluten-free or vegan, who seeks out specialty products catering to their needs. They are likely to purchase alternatives to traditional items, such as gluten-free bread or plant-based milk. This customer usually arrives with a predetermined list and avoids products that do not meet their dietary requirements. They prioritize quality and are willing to pay a higher price for products that meet their dietary needs. The customer plans to buy approximately 10 items.\n",
      "Number of items to buy: 10\n",
      "Purchase consideration: 2\n",
      "\n",
      "Intention: A customer focused on convenience and time-saving options. They prefer pre-packaged meals, ready-to-eat snacks, and pre-cut fruits and vegetables. This customer usually explores options while shopping, looking for convenient and easy-to-prepare products. They prioritize convenience over price or quality and are willing to pay more for pre-prepared items. The customer plans to buy around 8 items during this shopping trip.\n",
      "Number of items to buy: 8\n",
      "Purchase consideration: 3\n",
      "\n",
      "Intention: A customer who enjoys cooking and experimenting with new recipes. They tend to buy a variety of ingredients, including spices, sauces, and unique ingredients for specific recipes. This customer enjoys exploring different products while shopping and is open to trying new brands or flavors. They prioritize quality and are willing to pay a higher price for specialty ingredients. The customer expects to buy approximately 12 items on this trip.\n",
      "Number of items to buy: 12\n",
      "Purchase consideration: 4\n",
      "\n"
     ]
    }
   ],
   "source": [
    "for intent in output.intentions:\n",
    "    print(f\"Intention: {intent.intention}\")\n",
    "    print(f\"Number of items to buy: {intent.num_item_to_buy}\")\n",
    "    print(f\"Purchase consideration: {intent.purchase_consideration}\")\n",
    "    print()"
   ]
  },
  {
   "cell_type": "code",
   "execution_count": null,
   "metadata": {},
   "outputs": [],
   "source": []
  }
 ],
 "metadata": {
  "kernelspec": {
   "display_name": ".venv",
   "language": "python",
   "name": "python3"
  },
  "language_info": {
   "codemirror_mode": {
    "name": "ipython",
    "version": 3
   },
   "file_extension": ".py",
   "mimetype": "text/x-python",
   "name": "python",
   "nbconvert_exporter": "python",
   "pygments_lexer": "ipython3",
   "version": "3.9.6"
  }
 },
 "nbformat": 4,
 "nbformat_minor": 2
}
