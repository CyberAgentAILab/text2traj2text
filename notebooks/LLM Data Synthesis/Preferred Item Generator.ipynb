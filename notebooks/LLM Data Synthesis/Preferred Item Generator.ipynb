{
 "cells": [
  {
   "cell_type": "code",
   "execution_count": 1,
   "metadata": {},
   "outputs": [],
   "source": [
    "import os\n",
    "import json\n",
    "from text2traj2text.text2traj.chain_builder import build_preferred_item_chain"
   ]
  },
  {
   "cell_type": "code",
   "execution_count": 5,
   "metadata": {},
   "outputs": [
    {
     "name": "stderr",
     "output_type": "stream",
     "text": [
      "/Users/s24646/research/traj2text/src/text2traj2text/text2traj/chain_builder/preferred_item_chain_builder.py:215: LangChainDeprecationWarning: The class `AzureChatOpenAI` was deprecated in LangChain 0.0.10 and will be removed in 1.0. An updated version of the class exists in the langchain-openai package and should be used instead. To use it run `pip install -U langchain-openai` and import as `from langchain_openai import AzureChatOpenAI`.\n",
      "  model = AzureChatOpenAI(\n"
     ]
    }
   ],
   "source": [
    "chain = build_preferred_item_chain(\"gpt-4o-mini\")"
   ]
  },
  {
   "cell_type": "markdown",
   "metadata": {},
   "source": [
    "## load pregenerated intention list"
   ]
  },
  {
   "cell_type": "code",
   "execution_count": 2,
   "metadata": {},
   "outputs": [],
   "source": [
    "with open(\"../../data/super-market/intention/intention.json\", \"r\") as f:\n",
    "    intentions = json.load(f)"
   ]
  },
  {
   "cell_type": "markdown",
   "metadata": {},
   "source": [
    "# Generate user preferring item list"
   ]
  },
  {
   "cell_type": "code",
   "execution_count": 9,
   "metadata": {},
   "outputs": [],
   "source": [
    "index = 0\n",
    "intent = intentions[\"intentions\"][index]\n",
    "inputs = {\"num_item\": intent[\"num_item_to_buy\"], \"intention\": intent[\"intention\"], \"purchase_consideration\": intent[\"purchase_consideration\"]}"
   ]
  },
  {
   "cell_type": "code",
   "execution_count": 10,
   "metadata": {},
   "outputs": [],
   "source": [
    "model_output = chain.invoke(inputs)"
   ]
  },
  {
   "cell_type": "code",
   "execution_count": 18,
   "metadata": {},
   "outputs": [
    {
     "name": "stdout",
     "output_type": "stream",
     "text": [
      "fruit 5\n",
      "vegetable 5\n",
      "dairy 3\n",
      "seasoning 2\n"
     ]
    }
   ],
   "source": [
    "# render category level shopping plan\n",
    "for plan in model_output[\"output\"][\"shopping_plan\"]:\n",
    "    print(plan.category, plan.num_purchase_item)"
   ]
  },
  {
   "cell_type": "code",
   "execution_count": 20,
   "metadata": {},
   "outputs": [
    {
     "data": {
      "text/plain": [
       "{'incline_to_purchase': ['Luxury Apples',\n",
       "  'Organic Kiwi',\n",
       "  'Premium Mango',\n",
       "  'Premium Papaya',\n",
       "  'Mixed Berries',\n",
       "  'Luxury Asparagus',\n",
       "  'Luxury Mushrooms',\n",
       "  'Luxury Broccoli',\n",
       "  'Carrots',\n",
       "  'Potatoes',\n",
       "  'Organic Milk',\n",
       "  'Luxury Butter',\n",
       "  'Low-fat Cottage Cheese',\n",
       "  'Rosemary',\n",
       "  'Thyme'],\n",
       " 'show_interest': ['Mixed Citrus Fruits',\n",
       "  'Discounted Spinach',\n",
       "  'Cabbage',\n",
       "  'Greek Yogurt']}"
      ]
     },
     "execution_count": 20,
     "metadata": {},
     "output_type": "execute_result"
    }
   ],
   "source": [
    "model_output[\"output\"][\"preffer_item\"]"
   ]
  }
 ],
 "metadata": {
  "kernelspec": {
   "display_name": ".venv",
   "language": "python",
   "name": "python3"
  },
  "language_info": {
   "codemirror_mode": {
    "name": "ipython",
    "version": 3
   },
   "file_extension": ".py",
   "mimetype": "text/x-python",
   "name": "python",
   "nbconvert_exporter": "python",
   "pygments_lexer": "ipython3",
   "version": "3.9.6"
  }
 },
 "nbformat": 4,
 "nbformat_minor": 2
}
